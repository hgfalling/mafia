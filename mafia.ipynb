{
 "cells": [
  {
   "cell_type": "code",
   "execution_count": 1,
   "metadata": {},
   "outputs": [],
   "source": [
    "import mafia\n",
    "import collections"
   ]
  },
  {
   "cell_type": "code",
   "execution_count": 6,
   "metadata": {},
   "outputs": [],
   "source": [
    "def simple_strat(gs):\n",
    "    # no detectives\n",
    "    if gs.time == 0:\n",
    "        choices = [x for x in mafia.day_outcomes(gs).keys()]\n",
    "        tr = mafia.total_remaining(gs)\n",
    "        action = dict([(x,gs.players[x[0]]/tr) for x in choices])\n",
    "        return action\n",
    "    if gs.time == 1:\n",
    "        choices = [x for x in mafia.night_outcomes(gs).keys()]\n",
    "        tr = mafia.citizens_remaining(gs)\n",
    "        action = dict([(x,gs.players[x[0]]/tr) for x in choices])\n",
    "        return action       "
   ]
  },
  {
   "cell_type": "code",
   "execution_count": 12,
   "metadata": {},
   "outputs": [],
   "source": [
    "pl = mafia.Players(2,0,0,19,0,0,0,0,0,0,0,0)\n",
    "gs = mafia.Gamestate(1,0,None,pl)\n",
    "games = mafia.make_game(pl,gs)\n",
    "weight_dict = eval_strat_rc(games,simple_strat)"
   ]
  },
  {
   "cell_type": "code",
   "execution_count": 14,
   "metadata": {},
   "outputs": [],
   "source": [
    "cleaves = []\n",
    "mleaves = []\n",
    "for g in games:\n",
    "    cleaves.extend([x.identifier for x in g.leaves() if mafia.winner(x.data[1]) == 1])\n",
    "    mleaves.extend([x.identifier for x in g.leaves() if mafia.winner(x.data[1]) == -1])"
   ]
  },
  {
   "cell_type": "code",
   "execution_count": 15,
   "metadata": {},
   "outputs": [],
   "source": [
    "mafia_win = sum([weight_dict[x] for x in mleaves])\n",
    "citizen_win = sum([weight_dict[x] for x in cleaves])"
   ]
  },
  {
   "cell_type": "code",
   "execution_count": 16,
   "metadata": {},
   "outputs": [
    {
     "data": {
      "text/plain": [
       "(0.49290131952670657, 0.5070986804732934)"
      ]
     },
     "execution_count": 16,
     "metadata": {},
     "output_type": "execute_result"
    }
   ],
   "source": [
    "mafia_win,citizen_win"
   ]
  },
  {
   "cell_type": "code",
   "execution_count": null,
   "metadata": {},
   "outputs": [],
   "source": []
  }
 ],
 "metadata": {
  "kernelspec": {
   "display_name": "Python 3",
   "language": "python",
   "name": "python3"
  },
  "language_info": {
   "codemirror_mode": {
    "name": "ipython",
    "version": 3
   },
   "file_extension": ".py",
   "mimetype": "text/x-python",
   "name": "python",
   "nbconvert_exporter": "python",
   "pygments_lexer": "ipython3",
   "version": "3.7.1"
  }
 },
 "nbformat": 4,
 "nbformat_minor": 4
}
